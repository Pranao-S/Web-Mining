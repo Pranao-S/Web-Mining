{
 "cells": [
  {
   "cell_type": "markdown",
   "id": "c7f2f0ca",
   "metadata": {},
   "source": [
    "### Question 1"
   ]
  },
  {
   "cell_type": "code",
   "execution_count": 1,
   "id": "3e5d4327",
   "metadata": {},
   "outputs": [],
   "source": [
    "import numpy as np \n",
    "import pandas as pd \n",
    "import math\t\n",
    "#import matplotlib.pyplot as plt "
   ]
  },
  {
   "cell_type": "code",
   "execution_count": 2,
   "id": "9428cffb",
   "metadata": {},
   "outputs": [],
   "source": [
    "def accuracy_score(y_true, y_pred):\n",
    "\treturn round(float(sum(y_pred == y_true))/float(len(y_true)) * 100 ,2)\n",
    "\t\n",
    "def pre_processing(df):\n",
    "\tX = df.drop([df.columns[-1]], axis = 1)\n",
    "\ty = df[df.columns[-1]]\n",
    "\n",
    "\treturn X, y"
   ]
  },
  {
   "cell_type": "code",
   "execution_count": null,
   "id": "e3c7782e",
   "metadata": {},
   "outputs": [],
   "source": [
    "class  NaiveBayes:\n",
    "\n",
    "\tdef __init__(self):\n",
    "\t\tself.features = list\n",
    "\t\tself.likelihoods = {}\n",
    "\t\tself.class_priors = {}\n",
    "\t\tself.pred_priors = {}\n",
    "\n",
    "\t\tself.X_train = np.array\n",
    "\t\tself.y_train = np.array\n",
    "\t\tself.train_size = int\n",
    "\t\tself.num_feats = int\n",
    "\n",
    "\tdef fit(self, X, y):\n",
    "\n",
    "\t\tself.features = list(X.columns)\n",
    "\t\tself.X_train = X\n",
    "\t\tself.y_train = y\n",
    "\t\tself.train_size = X.shape[0]\n",
    "\t\tself.num_feats = X.shape[1]\n",
    "\n",
    "\t\tfor feature in self.features:\n",
    "\t\t\tself.likelihoods[feature] = {}\n",
    "\t\t\tself.pred_priors[feature] = {}\n",
    "\n",
    "\t\t\tfor feat_val in np.unique(self.X_train[feature]):\n",
    "\t\t\t\tself.pred_priors[feature].update({feat_val: 0})\n",
    "\n",
    "\t\t\t\tfor outcome in np.unique(self.y_train):\n",
    "\t\t\t\t\tself.likelihoods[feature].update({feat_val+'_'+outcome:0})\n",
    "\t\t\t\t\tself.class_priors.update({outcome: 0})\n",
    "\n",
    "\t\tself._calc_class_prior()\n",
    "\t\tself._calc_likelihoods()\n",
    "\t\tself._calc_predictor_prior()\n",
    "\n",
    "\t\t\n",
    "\tdef _calc_class_prior(self):\n",
    "\n",
    "\t\tfor outcome in np.unique(self.y_train):\n",
    "\t\t\toutcome_count = sum(self.y_train == outcome)\n",
    "\t\t\tself.class_priors[outcome] = outcome_count / self.train_size\n",
    "\n",
    "\tdef _calc_likelihoods(self):\n",
    "\n",
    "\t\tfor feature in self.features:\n",
    "\n",
    "\t\t\tfor outcome in np.unique(self.y_train):\n",
    "\t\t\t\toutcome_count = sum(self.y_train == outcome)\n",
    "\t\t\t\tfeat_likelihood = self.X_train[feature][self.y_train[self.y_train == outcome].index.values.tolist()].value_counts().to_dict()\n",
    "\n",
    "\t\t\t\tfor feat_val, count in feat_likelihood.items():\n",
    "\t\t\t\t\tself.likelihoods[feature][feat_val + '_' + outcome] = count/outcome_count\n",
    "\n",
    "\n",
    "\tdef _calc_predictor_prior(self):\n",
    "\n",
    "\t\t\tfor feature in self.features:\n",
    "\t\t\t\tfeat_vals = self.X_train[feature].value_counts().to_dict()\n",
    "\n",
    "\t\t\t\tfor feat_val, count in feat_vals.items():\n",
    "\t\t\t\t\tself.pred_priors[feature][feat_val] = count/self.train_size"
   ]
  },
  {
   "cell_type": "code",
   "execution_count": null,
   "id": "7e37c282",
   "metadata": {},
   "outputs": [],
   "source": [
    "\tdef predict(self, X):\n",
    "\n",
    "\t\t\"\"\" Calculates Posterior probability P(c|x) \"\"\"\n",
    "\n",
    "\t\tresults = []\n",
    "\t\tX = np.array(X)\n",
    "\n",
    "\t\tfor query in X:\n",
    "\t\t\tprobs_outcome = {}\n",
    "\t\t\tfor outcome in np.unique(self.y_train):\n",
    "\t\t\t\tprior = self.class_priors[outcome]\n",
    "\t\t\t\tlikelihood = 1\n",
    "\t\t\t\tevidence = 1\n",
    "\n",
    "\t\t\t\tfor feat, feat_val in zip(self.features, query):\n",
    "\t\t\t\t\tlikelihood *= self.likelihoods[feat][feat_val + '_' + outcome]\n",
    "\t\t\t\t\tevidence *= self.pred_priors[feat][feat_val]\n",
    "\n",
    "\t\t\t\tposterior = (likelihood * prior) / (evidence)\n",
    "\n",
    "\t\t\t\tprobs_outcome[outcome] = posterior\n",
    "\n",
    "\t\t\tresult = max(probs_outcome, key = lambda x: probs_outcome[x])\n",
    "\t\t\tresults.append(result)\n",
    "\t\t\t\n",
    "\t\tprint(results,\"\\n\")\n",
    "\t\treturn np.array(results)"
   ]
  },
  {
   "cell_type": "code",
   "execution_count": null,
   "id": "2e5388cd",
   "metadata": {},
   "outputs": [],
   "source": [
    "if __name__ == \"__main__\":\n",
    "\n",
    "\t#Weather Dataset\n",
    "\tprint(\"\\nWeather Dataset:\")\n",
    "\n",
    "\tdf = pd.read_csv(r'Book1.csv')\n",
    "\tprint(df)\n",
    "\n",
    "\t#Split fearures and target\n",
    "\tX,y  = pre_processing(df)\n",
    "\n",
    "\tnb_clf = NaiveBayes()\n",
    "\tnb_clf.fit(X, y)\n",
    "\n",
    "\tprint(\"Train Accuracy: {}\".format(accuracy_score(y, nb_clf.predict(X))))\n",
    "\t\n",
    "\t#Query 1:\n",
    "\tquery = np.array([['Serving', 'good', 'Food', 'absolutely', 'perfect', 'Restaurant']])\n",
    "\tprint(\"Query 1:- {} ---> {}\".format(query, nb_clf.predict(query)))"
   ]
  },
  {
   "cell_type": "markdown",
   "id": "e59556b9",
   "metadata": {},
   "source": [
    "### Question 2"
   ]
  },
  {
   "cell_type": "code",
   "execution_count": 1,
   "id": "5b528c35",
   "metadata": {},
   "outputs": [],
   "source": [
    "import numpy as np \n",
    "import pandas as pd \n",
    "from csv import reader"
   ]
  },
  {
   "cell_type": "code",
   "execution_count": 2,
   "id": "89816d0f",
   "metadata": {},
   "outputs": [],
   "source": [
    "data = pd.read_csv(r'lab6.csv')"
   ]
  },
  {
   "cell_type": "code",
   "execution_count": 3,
   "id": "c990d17f",
   "metadata": {},
   "outputs": [
    {
     "name": "stdout",
     "output_type": "stream",
     "text": [
      "<class 'pandas.core.frame.DataFrame'>\n",
      "RangeIndex: 7 entries, 0 to 6\n",
      "Data columns (total 9 columns):\n",
      " #   Column    Non-Null Count  Dtype \n",
      "---  ------    --------------  ----- \n",
      " 0   TDP       7 non-null      int64 \n",
      " 1   Nifty     7 non-null      int64 \n",
      " 2   Sidhu     7 non-null      int64 \n",
      " 3   BJP       7 non-null      int64 \n",
      " 4   Sensex    7 non-null      int64 \n",
      " 5   Sixer     7 non-null      int64 \n",
      " 6   Congress  7 non-null      int64 \n",
      " 7   Century   7 non-null      int64 \n",
      " 8   Category  7 non-null      object\n",
      "dtypes: int64(8), object(1)\n",
      "memory usage: 632.0+ bytes\n"
     ]
    }
   ],
   "source": [
    "data.info()"
   ]
  },
  {
   "cell_type": "code",
   "execution_count": 4,
   "id": "69257c22",
   "metadata": {},
   "outputs": [
    {
     "data": {
      "text/plain": [
       "Index(['TDP', 'Nifty', 'Sidhu', 'BJP', 'Sensex', 'Sixer', 'Congress',\n",
       "       'Century', 'Category'],\n",
       "      dtype='object')"
      ]
     },
     "execution_count": 4,
     "metadata": {},
     "output_type": "execute_result"
    }
   ],
   "source": [
    "data.columns"
   ]
  },
  {
   "cell_type": "code",
   "execution_count": 5,
   "id": "e93ab098",
   "metadata": {},
   "outputs": [
    {
     "data": {
      "text/html": [
       "<div>\n",
       "<style scoped>\n",
       "    .dataframe tbody tr th:only-of-type {\n",
       "        vertical-align: middle;\n",
       "    }\n",
       "\n",
       "    .dataframe tbody tr th {\n",
       "        vertical-align: top;\n",
       "    }\n",
       "\n",
       "    .dataframe thead th {\n",
       "        text-align: right;\n",
       "    }\n",
       "</style>\n",
       "<table border=\"1\" class=\"dataframe\">\n",
       "  <thead>\n",
       "    <tr style=\"text-align: right;\">\n",
       "      <th></th>\n",
       "      <th>TDP</th>\n",
       "      <th>Nifty</th>\n",
       "      <th>Sidhu</th>\n",
       "      <th>BJP</th>\n",
       "      <th>Sensex</th>\n",
       "      <th>Sixer</th>\n",
       "      <th>Congress</th>\n",
       "      <th>Century</th>\n",
       "      <th>Category</th>\n",
       "    </tr>\n",
       "  </thead>\n",
       "  <tbody>\n",
       "    <tr>\n",
       "      <th>0</th>\n",
       "      <td>4</td>\n",
       "      <td>0</td>\n",
       "      <td>3</td>\n",
       "      <td>5</td>\n",
       "      <td>1</td>\n",
       "      <td>0</td>\n",
       "      <td>6</td>\n",
       "      <td>0</td>\n",
       "      <td>Politics</td>\n",
       "    </tr>\n",
       "    <tr>\n",
       "      <th>1</th>\n",
       "      <td>0</td>\n",
       "      <td>5</td>\n",
       "      <td>0</td>\n",
       "      <td>2</td>\n",
       "      <td>6</td>\n",
       "      <td>0</td>\n",
       "      <td>1</td>\n",
       "      <td>0</td>\n",
       "      <td>Business</td>\n",
       "    </tr>\n",
       "    <tr>\n",
       "      <th>2</th>\n",
       "      <td>0</td>\n",
       "      <td>0</td>\n",
       "      <td>6</td>\n",
       "      <td>1</td>\n",
       "      <td>0</td>\n",
       "      <td>4</td>\n",
       "      <td>1</td>\n",
       "      <td>2</td>\n",
       "      <td>Sports</td>\n",
       "    </tr>\n",
       "    <tr>\n",
       "      <th>3</th>\n",
       "      <td>4</td>\n",
       "      <td>1</td>\n",
       "      <td>0</td>\n",
       "      <td>1</td>\n",
       "      <td>1</td>\n",
       "      <td>0</td>\n",
       "      <td>6</td>\n",
       "      <td>0</td>\n",
       "      <td>Politics</td>\n",
       "    </tr>\n",
       "    <tr>\n",
       "      <th>4</th>\n",
       "      <td>0</td>\n",
       "      <td>0</td>\n",
       "      <td>0</td>\n",
       "      <td>0</td>\n",
       "      <td>0</td>\n",
       "      <td>5</td>\n",
       "      <td>0</td>\n",
       "      <td>6</td>\n",
       "      <td>Sports</td>\n",
       "    </tr>\n",
       "    <tr>\n",
       "      <th>5</th>\n",
       "      <td>0</td>\n",
       "      <td>4</td>\n",
       "      <td>0</td>\n",
       "      <td>2</td>\n",
       "      <td>6</td>\n",
       "      <td>0</td>\n",
       "      <td>0</td>\n",
       "      <td>1</td>\n",
       "      <td>Business</td>\n",
       "    </tr>\n",
       "    <tr>\n",
       "      <th>6</th>\n",
       "      <td>5</td>\n",
       "      <td>0</td>\n",
       "      <td>0</td>\n",
       "      <td>3</td>\n",
       "      <td>0</td>\n",
       "      <td>0</td>\n",
       "      <td>5</td>\n",
       "      <td>0</td>\n",
       "      <td>Politics</td>\n",
       "    </tr>\n",
       "  </tbody>\n",
       "</table>\n",
       "</div>"
      ],
      "text/plain": [
       "   TDP  Nifty  Sidhu  BJP  Sensex  Sixer  Congress  Century  Category\n",
       "0    4      0      3    5       1      0         6        0  Politics\n",
       "1    0      5      0    2       6      0         1        0  Business\n",
       "2    0      0      6    1       0      4         1        2    Sports\n",
       "3    4      1      0    1       1      0         6        0  Politics\n",
       "4    0      0      0    0       0      5         0        6    Sports\n",
       "5    0      4      0    2       6      0         0        1  Business\n",
       "6    5      0      0    3       0      0         5        0  Politics"
      ]
     },
     "execution_count": 5,
     "metadata": {},
     "output_type": "execute_result"
    }
   ],
   "source": [
    "data.head(10)"
   ]
  },
  {
   "cell_type": "code",
   "execution_count": 6,
   "id": "bc49c97c",
   "metadata": {},
   "outputs": [],
   "source": [
    "query_data= [[4,0,2,0,1,0,6,0],[0,0,2,0,0,9,0,9],[5,0,2,5,0,9,0,9]]"
   ]
  },
  {
   "cell_type": "code",
   "execution_count": 7,
   "id": "ea0474c8",
   "metadata": {},
   "outputs": [],
   "source": [
    "outputlabels = data['Category'].unique()\n",
    "words = list(data.columns)[:-1]\n",
    "numtraindocuments = data.shape[0]"
   ]
  },
  {
   "cell_type": "code",
   "execution_count": 8,
   "id": "7c96601c",
   "metadata": {},
   "outputs": [
    {
     "name": "stdout",
     "output_type": "stream",
     "text": [
      "['Politics' 'Business' 'Sports']\n",
      "['TDP', 'Nifty', 'Sidhu', 'BJP', 'Sensex', 'Sixer', 'Congress', 'Century']\n",
      "7\n"
     ]
    }
   ],
   "source": [
    "print(outputlabels)\n",
    "print(words)\n",
    "print(numtraindocuments)"
   ]
  },
  {
   "cell_type": "code",
   "execution_count": 9,
   "id": "7f6d04e2",
   "metadata": {},
   "outputs": [],
   "source": [
    "conditional_probability = {}\n",
    "probability = {}"
   ]
  },
  {
   "cell_type": "code",
   "execution_count": 10,
   "id": "86ee61fa",
   "metadata": {},
   "outputs": [],
   "source": [
    "for outputClass in outputlabels:\n",
    "    temp_dataframe = data.loc[data['Category']==outputClass]\n",
    "    probability[outputClass]=(temp_dataframe.shape[0]/numtraindocuments)"
   ]
  },
  {
   "cell_type": "code",
   "execution_count": 11,
   "id": "715584f7",
   "metadata": {},
   "outputs": [
    {
     "name": "stdout",
     "output_type": "stream",
     "text": [
      "{'Politics': 0.42857142857142855, 'Business': 0.2857142857142857, 'Sports': 0.2857142857142857}\n"
     ]
    }
   ],
   "source": [
    "print(probability)"
   ]
  },
  {
   "cell_type": "code",
   "execution_count": 12,
   "id": "61a6f416",
   "metadata": {},
   "outputs": [],
   "source": [
    "ALPHA = 1"
   ]
  },
  {
   "cell_type": "code",
   "execution_count": 13,
   "id": "f440910e",
   "metadata": {},
   "outputs": [],
   "source": [
    "for outputClass in outputlabels:\n",
    "    temp_dataframe = data.loc[data['Category']==outputClass]\n",
    "    total_word_count_in_category =0\n",
    "    for i in range(temp_dataframe.shape[0]):\n",
    "        for word in words:\n",
    "            total_word_count_in_category += temp_dataframe.iloc[i][word]\n",
    "    for word in words:\n",
    "        current_word_count_in_category =0\n",
    "        for i in range(temp_dataframe.shape[0]):\n",
    "            current_word_count_in_category += temp_dataframe.iloc[i][word]\n",
    "            cur_prob = (current_word_count_in_category + ALPHA) / (total_word_count_in_category)\n",
    "            conditional_probability[(word, outputClass)] = cur_prob"
   ]
  },
  {
   "cell_type": "code",
   "execution_count": 14,
   "id": "b395c616",
   "metadata": {},
   "outputs": [
    {
     "name": "stdout",
     "output_type": "stream",
     "text": [
      "Conditional probability after applying smoothing\n",
      "\n"
     ]
    },
    {
     "data": {
      "text/plain": [
       "{('TDP', 'Politics'): 0.3111111111111111,\n",
       " ('Nifty', 'Politics'): 0.044444444444444446,\n",
       " ('Sidhu', 'Politics'): 0.08888888888888889,\n",
       " ('BJP', 'Politics'): 0.2222222222222222,\n",
       " ('Sensex', 'Politics'): 0.06666666666666667,\n",
       " ('Sixer', 'Politics'): 0.022222222222222223,\n",
       " ('Congress', 'Politics'): 0.4,\n",
       " ('Century', 'Politics'): 0.022222222222222223,\n",
       " ('TDP', 'Business'): 0.037037037037037035,\n",
       " ('Nifty', 'Business'): 0.37037037037037035,\n",
       " ('Sidhu', 'Business'): 0.037037037037037035,\n",
       " ('BJP', 'Business'): 0.18518518518518517,\n",
       " ('Sensex', 'Business'): 0.48148148148148145,\n",
       " ('Sixer', 'Business'): 0.037037037037037035,\n",
       " ('Congress', 'Business'): 0.07407407407407407,\n",
       " ('Century', 'Business'): 0.07407407407407407,\n",
       " ('TDP', 'Sports'): 0.04,\n",
       " ('Nifty', 'Sports'): 0.04,\n",
       " ('Sidhu', 'Sports'): 0.28,\n",
       " ('BJP', 'Sports'): 0.08,\n",
       " ('Sensex', 'Sports'): 0.04,\n",
       " ('Sixer', 'Sports'): 0.4,\n",
       " ('Congress', 'Sports'): 0.08,\n",
       " ('Century', 'Sports'): 0.36}"
      ]
     },
     "execution_count": 14,
     "metadata": {},
     "output_type": "execute_result"
    }
   ],
   "source": [
    "print(\"Conditional probability after applying smoothing\\n\")\n",
    "conditional_probability"
   ]
  },
  {
   "cell_type": "code",
   "execution_count": 15,
   "id": "546ed6db",
   "metadata": {},
   "outputs": [],
   "source": [
    "query_dict = {}\n",
    "list_query_dict = []\n",
    "for data in query_data:\n",
    "    for i, word in enumerate(words) :\n",
    "        query_dict[word] = data[i]\n",
    "    list_query_dict.append(query_dict)\n",
    "    query_dict = {}"
   ]
  },
  {
   "cell_type": "code",
   "execution_count": 16,
   "id": "4bd2539f",
   "metadata": {},
   "outputs": [
    {
     "data": {
      "text/plain": [
       "[{'TDP': 4,\n",
       "  'Nifty': 0,\n",
       "  'Sidhu': 2,\n",
       "  'BJP': 0,\n",
       "  'Sensex': 1,\n",
       "  'Sixer': 0,\n",
       "  'Congress': 6,\n",
       "  'Century': 0},\n",
       " {'TDP': 0,\n",
       "  'Nifty': 0,\n",
       "  'Sidhu': 2,\n",
       "  'BJP': 0,\n",
       "  'Sensex': 0,\n",
       "  'Sixer': 9,\n",
       "  'Congress': 0,\n",
       "  'Century': 9},\n",
       " {'TDP': 5,\n",
       "  'Nifty': 0,\n",
       "  'Sidhu': 2,\n",
       "  'BJP': 5,\n",
       "  'Sensex': 0,\n",
       "  'Sixer': 9,\n",
       "  'Congress': 0,\n",
       "  'Century': 9}]"
      ]
     },
     "execution_count": 16,
     "metadata": {},
     "output_type": "execute_result"
    }
   ],
   "source": [
    "list_query_dict"
   ]
  },
  {
   "cell_type": "code",
   "execution_count": 17,
   "id": "cdf5c7fd",
   "metadata": {},
   "outputs": [],
   "source": [
    "categorical_result_probability = {}\n",
    "result_probability =[]\n",
    "for query_dict in list_query_dict:\n",
    "    for output_class in outputlabels :\n",
    "        cur_prob = 1\n",
    "        for word in words :\n",
    "            cur_prob *= (conditional_probability[(word, output_class)] ** query_dict[word])\n",
    "            categorical_result_probability[output_class] = cur_prob                  \n",
    "    result_probability.append(categorical_result_probability)\n",
    "    categorical_result_probability = {}"
   ]
  },
  {
   "cell_type": "code",
   "execution_count": 18,
   "id": "25e5ab77",
   "metadata": {},
   "outputs": [
    {
     "data": {
      "text/plain": [
       "[{'Politics': 2.0212765225616147e-08,\n",
       "  'Business': 2.0530257296565003e-16,\n",
       "  'Sports': 2.1045339750400004e-15},\n",
       " {'Politics': 1.3799701971155752e-32,\n",
       "  'Business': 1.2077990336473961e-26,\n",
       "  'Sports': 2.0872693292214035e-09},\n",
       " {'Politics': 2.1796398918917e-38,\n",
       "  'Business': 1.8331882202741092e-37,\n",
       "  'Sports': 7.003713677304523e-22}]"
      ]
     },
     "execution_count": 18,
     "metadata": {},
     "output_type": "execute_result"
    }
   ],
   "source": [
    "result_probability"
   ]
  },
  {
   "cell_type": "code",
   "execution_count": 19,
   "id": "b795dc70",
   "metadata": {},
   "outputs": [
    {
     "name": "stdout",
     "output_type": "stream",
     "text": [
      "The query 1 entered belongs to the category : Politics\n",
      "The query 2 entered belongs to the category : Sports\n",
      "The query 3 entered belongs to the category : Sports\n"
     ]
    }
   ],
   "source": [
    "i=1\n",
    "for categorical_result_probability in result_probability:\n",
    "    result_category = max(categorical_result_probability, key=categorical_result_probability.get)\n",
    "    result_score = categorical_result_probability[result_category]\n",
    "    print(f\"The query {i} entered belongs to the category : {result_category}\")\n",
    "    i=i+1"
   ]
  }
 ],
 "metadata": {
  "kernelspec": {
   "display_name": "Python 3",
   "language": "python",
   "name": "python3"
  },
  "language_info": {
   "codemirror_mode": {
    "name": "ipython",
    "version": 3
   },
   "file_extension": ".py",
   "mimetype": "text/x-python",
   "name": "python",
   "nbconvert_exporter": "python",
   "pygments_lexer": "ipython3",
   "version": "3.6.8"
  }
 },
 "nbformat": 4,
 "nbformat_minor": 5
}
