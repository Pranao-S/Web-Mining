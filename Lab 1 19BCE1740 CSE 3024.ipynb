{
 "cells": [
  {
   "cell_type": "markdown",
   "metadata": {},
   "source": [
    "# CSE 3024           Web Mining"
   ]
  },
  {
   "cell_type": "markdown",
   "metadata": {},
   "source": [
    "# Register number - 19BCE1740 "
   ]
  },
  {
   "cell_type": "markdown",
   "metadata": {},
   "source": [
    "# Name - Pranao V Sahasrabuddhey"
   ]
  },
  {
   "cell_type": "markdown",
   "metadata": {},
   "source": [
    "# Slot - L7+L8              "
   ]
  },
  {
   "cell_type": "markdown",
   "metadata": {},
   "source": [
    "## Question 1"
   ]
  },
  {
   "cell_type": "markdown",
   "metadata": {},
   "source": [
    "#### Given a root URL, e.g., `vit.ac.in`, Design a simple crawler using Python to return all pages that contains a string `admissions` from this site."
   ]
  },
  {
   "cell_type": "code",
   "execution_count": null,
   "metadata": {},
   "outputs": [],
   "source": [
    "import import_ipynb ## removes errors related to package installations\n",
    "                    ##\n",
    "import requests\n",
    "from bs4 import BeautifulSoup\n",
    "import re"
   ]
  },
  {
   "cell_type": "code",
   "execution_count": 9,
   "metadata": {},
   "outputs": [],
   "source": [
    "root_URL = \"http://www.vit.ac.in\"\n",
    "search_word = \"research\""
   ]
  },
  {
   "cell_type": "code",
   "execution_count": 3,
   "metadata": {},
   "outputs": [
    {
     "name": "stdout",
     "output_type": "stream",
     "text": [
      "Status of the response :  200\n"
     ]
    }
   ],
   "source": [
    "# Use the requests library to retrieve the web page of the root URL\n",
    "\n",
    "response = requests.get(root_URL)\n",
    "print(\"Status of the response : \", response.status_code)"
   ]
  },
  {
   "cell_type": "code",
   "execution_count": 4,
   "metadata": {},
   "outputs": [],
   "source": [
    "# Use the Beautiful Soap library to parse the retrieved web page\n",
    "\n",
    "root_page = BeautifulSoup(response.content, 'html.parser')"
   ]
  },
  {
   "cell_type": "code",
   "execution_count": 5,
   "metadata": {},
   "outputs": [
    {
     "name": "stdout",
     "output_type": "stream",
     "text": [
      "-----------------------------------------------\n",
      "https://vit.ac.in/admissions/research\n",
      "https://vit.ac.in/admissions/research/Integrated_Ph.D\n",
      "https://vit.ac.in/admissions/research/phd\n",
      "https://vit.ac.in/research\n",
      "https://vit.ac.in/research\n",
      "https://vit.ac.in/research/academic\n",
      "https://vit.ac.in/research/sponsored-research\n",
      "https://vit.ac.in/research/centers-list\n",
      "3d-printing-play-major-role-mitigating-spread-covid-19-say-researchers-vit\n",
      "3d-printing-play-major-role-mitigating-spread-covid-19-say-researchers-vit\n",
      "https://vit.ac.in/research\n",
      "-----------------------------------------------\n"
     ]
    }
   ],
   "source": [
    "# Retrieve all the links to the sub-pages by retrieving all the `<a>` tags\n",
    "\n",
    "anchor_tags = root_page.find_all('a')\n",
    "result = []\n",
    "count=0\n",
    "print('-----------------------------------------------')\n",
    "for link in anchor_tags:\n",
    "    if(re.search(search_word,link.get('href'))):\n",
    "        result.append(link.get('href'))\n",
    "        count=count+1\n",
    "        if count==25:\n",
    "            break;\n",
    "for ans in result:\n",
    "    print(ans)\n",
    "print('-----------------------------------------------')\n",
    "\n",
    "\n",
    "# Check if the word \"admission\" is present in each page, and if so then save its URL\n",
    "# for anchor_tag in anchor_tags :\n",
    "#     link = anchor_tag['href']\n",
    "#     if re.search(search_word, link, re.IGNORECASE) :\n",
    "#         result.append(link)"
   ]
  },
  {
   "cell_type": "markdown",
   "metadata": {},
   "source": [
    "## Question 2"
   ]
  },
  {
   "cell_type": "markdown",
   "metadata": {},
   "source": [
    "#### Find documents that contain the word “admissions” and the word “international” within the URL “Vit.ac.in” using Python. "
   ]
  },
  {
   "cell_type": "code",
   "execution_count": 6,
   "metadata": {},
   "outputs": [
    {
     "name": "stdout",
     "output_type": "stream",
     "text": [
      "-----------------------------------------------\n",
      "https://vit.ac.in/admissions/international\n",
      "https://vit.ac.in/admissions/international/overview\n",
      "-----------------------------------------------\n"
     ]
    }
   ],
   "source": [
    "search_word1='admissions'\n",
    "search_word2='international'\n",
    "\n",
    "anchor_tags = root_page.find_all('a')\n",
    "result = []\n",
    "count=0\n",
    "print('-----------------------------------------------')\n",
    "for link in anchor_tags:\n",
    "    if(re.search(search_word1,link.get('href')) and re.search(search_word2,link.get('href'))):\n",
    "        result.append(link.get('href'))\n",
    "        count=count+1\n",
    "        if count==25:\n",
    "            break;\n",
    "for ans in result:\n",
    "    print(ans)\n",
    "print('-----------------------------------------------')"
   ]
  },
  {
   "cell_type": "markdown",
   "metadata": {},
   "source": [
    "## Question 3"
   ]
  },
  {
   "cell_type": "markdown",
   "metadata": {},
   "source": [
    "#### Find documents that contain the word “Programme” but not the word “programming” within the URL “Vit.ac.in” using Python. "
   ]
  },
  {
   "cell_type": "code",
   "execution_count": 7,
   "metadata": {},
   "outputs": [
    {
     "name": "stdout",
     "output_type": "stream",
     "text": [
      "-----------------------------------------------\n",
      "https://vit.ac.in/programmes-offered-1\n",
      "https://vit.ac.in/programmes-offered-2021-22\n",
      "https://vit.ac.in/programmes-offered-2020-21\n",
      "https://vit.ac.in/admissions/programmes-offered\n",
      "-----------------------------------------------\n"
     ]
    }
   ],
   "source": [
    "search_word1='programme'\n",
    "search_word2='programming'\n",
    "\n",
    "anchor_tags = root_page.find_all('a')\n",
    "result = []\n",
    "count=0\n",
    "print('-----------------------------------------------')\n",
    "for link in anchor_tags:\n",
    "    if(re.search(search_word1,link.get('href')) and not(re.search(search_word2,link.get('href')))):\n",
    "        result.append(link.get('href'))\n",
    "        count=count+1\n",
    "        if count==5:\n",
    "            break;\n",
    "for ans in result:\n",
    "    print(ans)\n",
    "print('-----------------------------------------------')"
   ]
  },
  {
   "cell_type": "markdown",
   "metadata": {},
   "source": [
    "## Question 4"
   ]
  },
  {
   "cell_type": "markdown",
   "metadata": {},
   "source": [
    "#### Write a web crawler program which takes as input a url (Educational website) and a search key word and maximum number of pages (15-20 Pages)  to be searched and returns as output all the web pages it searched till it found the search word on a web page or return failure."
   ]
  },
  {
   "cell_type": "code",
   "execution_count": 43,
   "metadata": {},
   "outputs": [
    {
     "name": "stdout",
     "output_type": "stream",
     "text": [
      "Enter URL of an educational websitehttp://www.vit.ac.in\n",
      "Enter Search Wordadmissions\n",
      "Enter maximum no. of pages100\n",
      "Status of the response :  200\n",
      "#main-content\n",
      "https://viteee.vit.ac.in/\n",
      "http://chennai.vit.ac.in/\n",
      "https://vitap.ac.in/\n",
      "https://vitbhopal.ac.in/\n",
      "/\n",
      "#\n",
      "#\n",
      "#\n",
      "https://vit.ac.in\n",
      "https://vit.ac.in/about-vit\n",
      "https://vit.ac.in/about-vit\n",
      "https://vit.ac.in/about/vision-mission\n",
      "https://vit.ac.in/vit-milestones\n",
      "https://vit.ac.in/about/leadership\n",
      "https://vit.ac.in/governance\n",
      "https://vit.ac.in/about/administrative-offices\n",
      "https://vit.ac.in/about/infrastructure\n",
      "https://vit.ac.in/about/ranking-and-accreditation\n",
      "https://vit.ac.in/about/sustainability\n",
      "https://vit.ac.in/true-green\n",
      "https://vit.ac.in/about/community-outreach\n",
      "https://vit.ac.in/about/communityradio\n",
      "https://vit.ac.in/all-news-archieved\n",
      "https://vit.ac.in/all-events\n",
      "https://vit.ac.in/national-institutional-ranking-framework-nirf\n",
      "https://vit.ac.in/mhrdugc\n",
      "http://careers.vit.ac.in/\n",
      "https://vit.ac.in/about/news-letter\n",
      "https://vit.ac.in/academics/home\n",
      "https://vit.ac.in/academics/home\n",
      "https://vit.ac.in/sites/default/files/academic/Academic-Regulations.pdf\n",
      "https://vit.ac.in/programmes-offered-1\n",
      "https://vit.ac.in/programmes-offered-2021-22\n",
      "https://vit.ac.in/programmes-offered-2020-21\n",
      "https://vit.ac.in/schools\n",
      "https://vit.ac.in/academics/ffcs\n",
      "https://vit.ac.in/academics/library\n",
      "https://vit.ac.in/schools\n",
      "https://vit.ac.in/academics-feedback\n",
      "-----------------------------------------------\n"
     ]
    }
   ],
   "source": [
    "url = input('Enter URL of an educational website')\n",
    "search_word = input('Enter Search Word')\n",
    "mpages = int(input('Enter maximum no. of pages'))\n",
    "count = 0\n",
    "result = []\n",
    "mind = False\n",
    "\n",
    "response = requests.get(url)\n",
    "print(\"Status of the response : \", response.status_code)\n",
    "root_page = BeautifulSoup(response.content, 'html.parser')\n",
    "anchor_tags = root_page.find_all('a')\n",
    "\n",
    "for link in anchor_tags:\n",
    "    if link.get('href')==None:\n",
    "        continue\n",
    "    elif(re.search(search_word,link.get('href'))):\n",
    "        mind=True\n",
    "        break\n",
    "    elif(count==mpages):\n",
    "        break\n",
    "    else:\n",
    "        result.append(link.get('href'))\n",
    "    count=count+1\n",
    "if mind:\n",
    "    for ans in result:\n",
    "        print(ans)\n",
    "else:\n",
    "    print('Failure')\n",
    "print('-----------------------------------------------')"
   ]
  }
 ],
 "metadata": {
  "kernelspec": {
   "display_name": "Python 3",
   "language": "python",
   "name": "python3"
  },
  "language_info": {
   "codemirror_mode": {
    "name": "ipython",
    "version": 3
   },
   "file_extension": ".py",
   "mimetype": "text/x-python",
   "name": "python",
   "nbconvert_exporter": "python",
   "pygments_lexer": "ipython3",
   "version": "3.6.8"
  }
 },
 "nbformat": 4,
 "nbformat_minor": 4
}
