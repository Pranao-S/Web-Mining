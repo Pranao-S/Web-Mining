{
 "cells": [
  {
   "cell_type": "markdown",
   "id": "63b3dbac",
   "metadata": {},
   "source": [
    "### Task 1:  Identify the frequency of most popular 50 items\n",
    "Input is dataset file named 'dataset.csv'."
   ]
  },
  {
   "cell_type": "code",
   "execution_count": 3,
   "id": "d4d9bdf1",
   "metadata": {},
   "outputs": [],
   "source": [
    "import pandas as pd\n",
    "import numpy as np\n",
    "#import networkx as nx\n",
    "data=pd.read_csv(\"dataset.csv\")"
   ]
  },
  {
   "cell_type": "code",
   "execution_count": null,
   "id": "4e81f332",
   "metadata": {},
   "outputs": [],
   "source": []
  },
  {
   "cell_type": "markdown",
   "id": "801ec133",
   "metadata": {},
   "source": [
    "### Task 2: Run aprior algorithm using Python for the following support and confidence "
   ]
  },
  {
   "cell_type": "code",
   "execution_count": 2,
   "id": "80e56f38",
   "metadata": {},
   "outputs": [],
   "source": [
    "import pandas as pd\n",
    "import numpy as np\n",
    "#import networkx as nx\n",
    "data=pd.read_csv(\"dataset.csv\")"
   ]
  },
  {
   "cell_type": "markdown",
   "id": "07709809",
   "metadata": {},
   "source": [
    "### Case 1: minimum support=0.15 and minimum confidence=0.6 (60%)"
   ]
  },
  {
   "cell_type": "code",
   "execution_count": null,
   "id": "d46def13",
   "metadata": {},
   "outputs": [],
   "source": []
  },
  {
   "cell_type": "markdown",
   "id": "2545df53",
   "metadata": {},
   "source": [
    "### Case 2: minimum support=0.3 and minimum confidence=0.7"
   ]
  },
  {
   "cell_type": "code",
   "execution_count": null,
   "id": "fcea7ef4",
   "metadata": {},
   "outputs": [],
   "source": []
  },
  {
   "cell_type": "markdown",
   "id": "e223da2d",
   "metadata": {},
   "source": [
    "### Case 3: minimum support=0.4 and minimum confidence=0.85"
   ]
  },
  {
   "cell_type": "code",
   "execution_count": null,
   "id": "4ac9a87e",
   "metadata": {},
   "outputs": [],
   "source": []
  }
 ],
 "metadata": {
  "kernelspec": {
   "display_name": "Python 3",
   "language": "python",
   "name": "python3"
  },
  "language_info": {
   "codemirror_mode": {
    "name": "ipython",
    "version": 3
   },
   "file_extension": ".py",
   "mimetype": "text/x-python",
   "name": "python",
   "nbconvert_exporter": "python",
   "pygments_lexer": "ipython3",
   "version": "3.6.8"
  }
 },
 "nbformat": 4,
 "nbformat_minor": 5
}
