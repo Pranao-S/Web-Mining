{
 "cells": [
  {
   "cell_type": "markdown",
   "metadata": {
    "id": "giPDFkPIRbBG"
   },
   "source": [
    "# **QUESTION 1**"
   ]
  },
  {
   "cell_type": "code",
   "execution_count": null,
   "metadata": {
    "colab": {
     "base_uri": "https://localhost:8080/"
    },
    "executionInfo": {
     "elapsed": 2267,
     "status": "ok",
     "timestamp": 1641273256047,
     "user": {
      "displayName": "Anisha Kaushik",
      "photoUrl": "https://lh3.googleusercontent.com/a/default-user=s64",
      "userId": "05661748900528311484"
     },
     "user_tz": -330
    },
    "id": "Mk8vSG28Nni-",
    "outputId": "073bf684-1137-4b56-bafb-e43dba4e206b"
   },
   "outputs": [
    {
     "name": "stdout",
     "output_type": "stream",
     "text": [
      "Status of the response :  200\n",
      "The links in the root URL page which contains the word 'research' are :\n",
      "\t https://vit.ac.in/admissions/research\n",
      "\t https://vit.ac.in/admissions/research/Integrated_Ph.D\n",
      "\t https://vit.ac.in/admissions/research/phd\n",
      "\t https://vit.ac.in/research\n",
      "\t https://vit.ac.in/research\n",
      "\t https://vit.ac.in/research/academic\n",
      "\t https://vit.ac.in/research/sponsored-research\n",
      "\t https://vit.ac.in/research/centers-list\n",
      "\t 3d-printing-play-major-role-mitigating-spread-covid-19-say-researchers-vit\n",
      "\t 3d-printing-play-major-role-mitigating-spread-covid-19-say-researchers-vit\n",
      "\t https://vit.ac.in/research\n"
     ]
    }
   ],
   "source": [
    "import requests\n",
    "from bs4 import BeautifulSoup\n",
    "import re\n",
    "# Use the requests library to retrieve the web page of the root URL\n",
    "\n",
    "response = requests.get(\"https://vit.ac.in/\")\n",
    "print(\"Status of the response : \", response.status_code)\n",
    "# Use the Beautiful Soap library to parse the retrieved web page\n",
    "\n",
    "root_page = BeautifulSoup(response.content, 'html.parser')\n",
    "\n",
    "# Retrieve all the links to the sub-pages by retrieving all the `<a>` tags\n",
    "\n",
    "anchor_tags = root_page.find_all('a')\n",
    "\n",
    "result = []\n",
    "\n",
    "# Check if the word \"research\" is present in each page, and if so then save its URL\n",
    "for anchor_tag in anchor_tags :\n",
    "    link = anchor_tag['href']\n",
    "    if re.search(\"research\", link, re.IGNORECASE) :\n",
    "        result.append(link)\n",
    "\n",
    "print(\"The links in the root URL page which contains the word 'research' are :\")\n",
    "for url in result :\n",
    "    print(\"\\t\", url)\n",
    "\n",
    "\n",
    "#from google.colab import drive\n",
    "#drive.mount('/content/drive')\n",
    "#with open('/content/drive/My Drive/lab-1.txt', 'w') as file:\n",
    " \n",
    "# Saving the array in a text file\n",
    "  #content = str(result)\n",
    "  #file.write(content)\n",
    "  #file.close()\n",
    " \n",
    "# Displaying the contents of the text file\n",
    "#with open('/content/drive/My Drive/lab-1.txt', 'w') as file:\n",
    "  #content = file.read()\n",
    " \n",
    "  #print(\"\\nContent in lab-1.txt:\\n\", content)\n",
    "#file.close()\n",
    "\n"
   ]
  },
  {
   "cell_type": "markdown",
   "metadata": {
    "id": "lFgp8ZiwRloV"
   },
   "source": [
    "# **QUESTION 2**"
   ]
  },
  {
   "cell_type": "code",
   "execution_count": null,
   "metadata": {
    "colab": {
     "base_uri": "https://localhost:8080/"
    },
    "executionInfo": {
     "elapsed": 1832,
     "status": "ok",
     "timestamp": 1641273261011,
     "user": {
      "displayName": "Anisha Kaushik",
      "photoUrl": "https://lh3.googleusercontent.com/a/default-user=s64",
      "userId": "05661748900528311484"
     },
     "user_tz": -330
    },
    "id": "8HGD-zyARlT3",
    "outputId": "5eba8f22-be89-4762-ebfc-ca93d259dd90"
   },
   "outputs": [
    {
     "name": "stdout",
     "output_type": "stream",
     "text": [
      "Status of the response :  200\n",
      "The links in the root URL page which contains the word 'admissions' and 'international are :\n",
      "\t https://vit.ac.in/admissions/international\n",
      "\t https://vit.ac.in/admissions/international/overview\n"
     ]
    }
   ],
   "source": [
    "import requests\n",
    "from bs4 import BeautifulSoup\n",
    "import re\n",
    "# Use the requests library to retrieve the web page of the root URL\n",
    "\n",
    "response = requests.get(\"https://vit.ac.in/\")\n",
    "print(\"Status of the response : \", response.status_code)\n",
    "# Use the Beautiful Soap library to parse the retrieved web page\n",
    "\n",
    "root_page = BeautifulSoup(response.content, 'html.parser')\n",
    "\n",
    "# Retrieve all the links to the sub-pages by retrieving all the `<a>` tags\n",
    "\n",
    "anchor_tags = root_page.find_all('a')\n",
    "\n",
    "result = []\n",
    "\n",
    "# Check if the words \"admissions\" and \"international\"  is present in each page, and if so then save its URL\n",
    "for anchor_tag in anchor_tags :\n",
    "    link = anchor_tag['href']\n",
    "    if re.search(\"admissions\", link, re.IGNORECASE) and re.search(\"international\", link, re.IGNORECASE):\n",
    "        result.append(link)\n",
    "\n",
    "print(\"The links in the root URL page which contains the word 'admissions' and 'international are :\")\n",
    "for url in result :\n",
    "    print(\"\\t\", url)\n"
   ]
  },
  {
   "cell_type": "markdown",
   "metadata": {
    "id": "WmeEBHf4RqJF"
   },
   "source": [
    "# **QUESTION 3**"
   ]
  },
  {
   "cell_type": "code",
   "execution_count": null,
   "metadata": {
    "colab": {
     "base_uri": "https://localhost:8080/"
    },
    "executionInfo": {
     "elapsed": 1849,
     "status": "ok",
     "timestamp": 1641273265517,
     "user": {
      "displayName": "Anisha Kaushik",
      "photoUrl": "https://lh3.googleusercontent.com/a/default-user=s64",
      "userId": "05661748900528311484"
     },
     "user_tz": -330
    },
    "id": "6V-exiH7RwKD",
    "outputId": "c7c91699-5b52-4679-e2d4-96caa2894ef2"
   },
   "outputs": [
    {
     "name": "stdout",
     "output_type": "stream",
     "text": [
      "Status of the response :  200\n",
      "The links in the root URL page which contains the word 'programme' and not 'programming are :\n",
      "\t https://vit.ac.in/programmes-offered-1\n",
      "\t https://vit.ac.in/programmes-offered-2021-22\n",
      "\t https://vit.ac.in/programmes-offered-2020-21\n",
      "\t https://vit.ac.in/admissions/programmes-offered\n"
     ]
    }
   ],
   "source": [
    "import requests\n",
    "from bs4 import BeautifulSoup\n",
    "import re\n",
    "# Use the requests library to retrieve the web page of the root URL\n",
    "\n",
    "response = requests.get(\"https://vit.ac.in/\")\n",
    "print(\"Status of the response : \", response.status_code)\n",
    "# Use the Beautiful Soap library to parse the retrieved web page\n",
    "\n",
    "root_page = BeautifulSoup(response.content, 'html.parser')\n",
    "\n",
    "# Retrieve all the links to the sub-pages by retrieving all the `<a>` tags\n",
    "\n",
    "anchor_tags = root_page.find_all('a')\n",
    "\n",
    "result = []\n",
    "\n",
    "# Check if the word \"programme\" and not the word \"programming\" is present in each page, and if so then save its URL\n",
    "for anchor_tag in anchor_tags :\n",
    "    link = anchor_tag['href']\n",
    "    if re.search(\"programme\", link, re.IGNORECASE) and not re.search(\"programming\", link, re.IGNORECASE):\n",
    "        result.append(link)\n",
    "\n",
    "print(\"The links in the root URL page which contains the word 'programme' and not 'programming are :\")\n",
    "for url in result :\n",
    "    print(\"\\t\", url)"
   ]
  },
  {
   "cell_type": "markdown",
   "metadata": {
    "id": "CymitzCGRw7f"
   },
   "source": [
    "# **QUESTION 4**"
   ]
  },
  {
   "cell_type": "code",
   "execution_count": 6,
   "metadata": {
    "colab": {
     "base_uri": "https://localhost:8080/"
    },
    "executionInfo": {
     "elapsed": 22916,
     "status": "ok",
     "timestamp": 1641288042017,
     "user": {
      "displayName": "Anisha Kaushik",
      "photoUrl": "https://lh3.googleusercontent.com/a/default-user=s64",
      "userId": "05661748900528311484"
     },
     "user_tz": -330
    },
    "id": "CG7PXsmIR0CJ",
    "outputId": "fbc8ff4b-6741-4b2b-fa4e-1cf03593e9f6"
   },
   "outputs": [
    {
     "name": "stdout",
     "output_type": "stream",
     "text": [
      "Enter seed url:https://vit.ac.in/\n",
      "Enter word to search:admissions\n",
      "Enter max web pages to be searched:20\n",
      "Status of the response :  200\n",
      "The links in the root URL page which are searched :\n",
      "\t #main-content\n",
      "\t https://viteee.vit.ac.in/\n",
      "\t http://chennai.vit.ac.in/\n",
      "\t https://vitap.ac.in/\n",
      "\t https://vitbhopal.ac.in/\n",
      "\t /\n",
      "\t #\n",
      "\t #\n",
      "\t #\n",
      "\t https://vit.ac.in\n",
      "\t https://vit.ac.in/about-vit\n",
      "\t https://vit.ac.in/about-vit\n",
      "\t https://vit.ac.in/about/vision-mission\n",
      "\t https://vit.ac.in/vit-milestones\n",
      "\t https://vit.ac.in/about/leadership\n",
      "\t https://vit.ac.in/governance\n",
      "\t https://vit.ac.in/about/administrative-offices\n",
      "\t https://vit.ac.in/about/infrastructure\n",
      "\t https://vit.ac.in/about/ranking-and-accreditation\n",
      "\t https://vit.ac.in/about/sustainability\n",
      "The first link in the root URL page which contains the searchWord are :\n",
      "\t https://vit.ac.in/admissions/overview\n"
     ]
    }
   ],
   "source": [
    "import requests\n",
    "from bs4 import BeautifulSoup\n",
    "import re\n",
    "# Use the requests library to retrieve the web page of the root URL\n",
    "url = input(\"Enter seed url:\")\n",
    "response = requests.get(url)\n",
    "searchWord = input(\"Enter word to search:\")\n",
    "webpages = int(input(\"Enter max web pages to be searched:\"))\n",
    "\n",
    "print(\"Status of the response : \", response.status_code)\n",
    "# Use the Beautiful Soap library to parse the retrieved web page\n",
    "\n",
    "root_page = BeautifulSoup(response.content, 'html.parser')\n",
    "\n",
    "# Retrieve all the links to the sub-pages by retrieving all the `<a>` tags\n",
    "\n",
    "anchor_tags = root_page.find_all('a')\n",
    "searchedLinks = []\n",
    "result = []\n",
    "counter = 0\n",
    "\n",
    "# Check if the word is present in each page, and if so then save its URL\n",
    "for anchor_tag in anchor_tags :\n",
    "    link = anchor_tag['href']\n",
    "    if (webpages > 0):\n",
    "      searchedLinks.append(link)\n",
    "      webpages = webpages - 1\n",
    "    if re.search(searchWord, link, re.IGNORECASE) and counter == 0:\n",
    "      result.append(link)\n",
    "      counter = counter + 1\n",
    "   \n",
    "print(\"The links in the root URL page which are searched :\")\n",
    "for url in searchedLinks :\n",
    "    print(\"\\t\", url)\n",
    "\n",
    "print(\"The first link in the root URL page which contains the searchWord are :\")\n",
    "for url in result :\n",
    "    print(\"\\t\", url)"
   ]
  }
 ],
 "metadata": {
  "colab": {
   "authorship_tag": "ABX9TyMbgMuLeo7+wN0m/+yt+NVp",
   "collapsed_sections": [],
   "mount_file_id": "1w7_BXgntr5YarcG4r6owORGSDGiSwsWO",
   "name": "WebMining lab-1.ipynb",
   "provenance": []
  },
  "kernelspec": {
   "display_name": "Python 3",
   "language": "python",
   "name": "python3"
  },
  "language_info": {
   "codemirror_mode": {
    "name": "ipython",
    "version": 3
   },
   "file_extension": ".py",
   "mimetype": "text/x-python",
   "name": "python",
   "nbconvert_exporter": "python",
   "pygments_lexer": "ipython3",
   "version": "3.6.8"
  }
 },
 "nbformat": 4,
 "nbformat_minor": 1
}
