{
 "cells": [
  {
   "cell_type": "markdown",
   "id": "e35af329",
   "metadata": {},
   "source": [
    "# CSE 3024           Web Mining"
   ]
  },
  {
   "cell_type": "markdown",
   "id": "e8340f8f",
   "metadata": {},
   "source": [
    "# Register number - 19BCE1740 "
   ]
  },
  {
   "cell_type": "markdown",
   "id": "4e10dec3",
   "metadata": {},
   "source": [
    "# Name - Pranao V Sahasrabuddhey"
   ]
  },
  {
   "cell_type": "markdown",
   "id": "e59dd0d9",
   "metadata": {},
   "source": [
    "# Slot - L7+L8;           Lab 3"
   ]
  },
  {
   "cell_type": "markdown",
   "id": "49b23782",
   "metadata": {},
   "source": [
    "# Question 1\n",
    "Build the inverted index for the following documents:\n",
    "\n",
    "ID1 : Selenium is a portable framework for testing web applications\n",
    "\n",
    "ID2 : Beautiful Soup is useful for web scraping\n",
    "\n",
    "ID3: It is a python package for parsing the pages\n",
    "\n",
    "ID4: Java programming can be used for web applications\n",
    "\n",
    "ID5: scraping web and crawling web is useful"
   ]
  },
  {
   "cell_type": "code",
   "execution_count": 1,
   "id": "e2adb32e",
   "metadata": {},
   "outputs": [],
   "source": [
    "import math\n",
    "import re\n",
    "import nltk\n",
    "import string"
   ]
  },
  {
   "cell_type": "code",
   "execution_count": 2,
   "id": "e60f9451",
   "metadata": {},
   "outputs": [],
   "source": [
    "from nltk.tokenize import word_tokenize\n",
    "from nltk.corpus import stopwords"
   ]
  },
  {
   "cell_type": "code",
   "execution_count": 3,
   "id": "07d1843b",
   "metadata": {},
   "outputs": [
    {
     "name": "stderr",
     "output_type": "stream",
     "text": [
      "[nltk_data] Downloading package punkt to\n",
      "[nltk_data]     C:\\Users\\aayus\\AppData\\Roaming\\nltk_data...\n",
      "[nltk_data]   Unzipping tokenizers\\punkt.zip.\n"
     ]
    },
    {
     "data": {
      "text/plain": [
       "True"
      ]
     },
     "execution_count": 3,
     "metadata": {},
     "output_type": "execute_result"
    }
   ],
   "source": [
    "nltk.download(\"punkt\")"
   ]
  },
  {
   "cell_type": "code",
   "execution_count": 4,
   "id": "8a997499",
   "metadata": {},
   "outputs": [
    {
     "name": "stdout",
     "output_type": "stream",
     "text": [
      "['Selenium is a portable framework for testing web applications', 'Beautiful Soup is useful for web scraping', 'It is a python package for parsing the pages', 'Java programming can be used for web applications', 'scraping web and crawling web is useful']\n"
     ]
    }
   ],
   "source": [
    "documents = [\"Selenium is a portable framework for testing web applications\",\n",
    "\"Beautiful Soup is useful for web scraping\",\n",
    "\"It is a python package for parsing the pages\",\n",
    "\"Java programming can be used for web applications\",\n",
    "\"scraping web and crawling web is useful\"]\n",
    "print(documents)"
   ]
  },
  {
   "cell_type": "code",
   "execution_count": 7,
   "id": "6f4d7403",
   "metadata": {},
   "outputs": [],
   "source": [
    "def textpreprocess(text):\n",
    "    s = text\n",
    "    s = s.lower()\n",
    "    s = s.replace('/[^A-Za-z0-9]/g', '')\n",
    "    s = s.strip()\n",
    "    words = word_tokenize(s)\n",
    "    stop_words = set(stopwords.words('english'))\n",
    "    words = [word for word in words if word not in stop_words]\n",
    "    return words"
   ]
  },
  {
   "cell_type": "code",
   "execution_count": 6,
   "id": "5f428179",
   "metadata": {},
   "outputs": [
    {
     "name": "stderr",
     "output_type": "stream",
     "text": [
      "[nltk_data] Downloading package punkt to\n",
      "[nltk_data]     C:\\Users\\aayus\\AppData\\Roaming\\nltk_data...\n",
      "[nltk_data]   Package punkt is already up-to-date!\n",
      "[nltk_data] Downloading package stopwords to\n",
      "[nltk_data]     C:\\Users\\aayus\\AppData\\Roaming\\nltk_data...\n",
      "[nltk_data]   Unzipping corpora\\stopwords.zip.\n"
     ]
    },
    {
     "data": {
      "text/plain": [
       "True"
      ]
     },
     "execution_count": 6,
     "metadata": {},
     "output_type": "execute_result"
    }
   ],
   "source": [
    "nltk.download(\"punkt\")\n",
    "nltk.download('stopwords')"
   ]
  },
  {
   "cell_type": "code",
   "execution_count": 8,
   "id": "284a56f9",
   "metadata": {},
   "outputs": [],
   "source": [
    "def findOccurance(text, word) :\n",
    "    text = text.replace('/[^A-Za-z0-9]/g', '')\n",
    "    text = text.replace(' ', ' ')\n",
    "    text = text.lower()\n",
    "    text_words = text.strip().split()\n",
    "    word_count = 0\n",
    "    word_positions = []\n",
    "    for i in range(len(text_words)) :\n",
    "        if word == text_words[i] :\n",
    "            word_count += 1\n",
    "            word_positions.append(i)\n",
    "    return (word_count, word_positions)"
   ]
  },
  {
   "cell_type": "code",
   "execution_count": 9,
   "id": "78c611b8",
   "metadata": {},
   "outputs": [],
   "source": [
    "inverted_index = {}\n",
    "for (i, doc) in enumerate(documents) :\n",
    "    words = textpreprocess(doc)\n",
    "    for word in words :\n",
    "        if word not in inverted_index :\n",
    "            inverted_index[word] = []\n",
    "        occurance_count, occurance_pos_list = findOccurance(doc, word)\n",
    "        inverted_index[word].append(((i+1), occurance_count, occurance_pos_list))"
   ]
  },
  {
   "cell_type": "code",
   "execution_count": 10,
   "id": "8dd0790f",
   "metadata": {},
   "outputs": [
    {
     "name": "stdout",
     "output_type": "stream",
     "text": [
      "INVERTED INDEX\n",
      "('selenium', [(1, 1, [0])])\n",
      "('portable', [(1, 1, [3])])\n",
      "('framework', [(1, 1, [4])])\n",
      "('testing', [(1, 1, [6])])\n",
      "('web', [(1, 1, [7]), (2, 1, [5]), (4, 1, [6]), (5, 2, [1, 4]), (5, 2, [1, 4])])\n",
      "('applications', [(1, 1, [8]), (4, 1, [7])])\n",
      "('beautiful', [(2, 1, [0])])\n",
      "('soup', [(2, 1, [1])])\n",
      "('useful', [(2, 1, [3]), (5, 1, [6])])\n",
      "('scraping', [(2, 1, [6]), (5, 1, [0])])\n",
      "('python', [(3, 1, [3])])\n",
      "('package', [(3, 1, [4])])\n",
      "('parsing', [(3, 1, [6])])\n",
      "('pages', [(3, 1, [8])])\n",
      "('java', [(4, 1, [0])])\n",
      "('programming', [(4, 1, [1])])\n",
      "('used', [(4, 1, [4])])\n",
      "('crawling', [(5, 1, [3])])\n"
     ]
    }
   ],
   "source": [
    "print(\"INVERTED INDEX\")\n",
    "for index in inverted_index.items():\n",
    "    print(index)"
   ]
  },
  {
   "cell_type": "markdown",
   "id": "85868e74",
   "metadata": {},
   "source": [
    "# Question 2\n",
    "Search following words using the inverted index\n",
    "\n",
    "a. Selenium AND web"
   ]
  },
  {
   "cell_type": "code",
   "execution_count": 52,
   "id": "99b063bd",
   "metadata": {},
   "outputs": [
    {
     "name": "stdout",
     "output_type": "stream",
     "text": [
      "Selenium word occurs in the following position\n",
      "Doc no  no.of times  offset number\n",
      "1          1          [0]\n",
      "web word occurs in the following position\n",
      "Doc no  no.of times  offset number\n",
      "1          1          [7]\n",
      "2          1          [5]\n",
      "4          1          [6]\n",
      "5          2          [1, 4]\n",
      "5          2          [1, 4]\n"
     ]
    }
   ],
   "source": [
    "print(\"Selenium word occurs in the following position\")\n",
    "print(\"Doc no  no.of times  offset number\")\n",
    "for index in inverted_index.items():\n",
    "    if(index[0]==\"selenium\"):\n",
    "        for indexes in index[1]:\n",
    "            print(indexes[0],\"        \",indexes[1],\"        \",indexes[2])\n",
    "print(\"web word occurs in the following position\")\n",
    "print(\"Doc no  no.of times  offset number\")\n",
    "for index in inverted_index.items():\n",
    "    if(index[0]==\"web\"):\n",
    "        for indexes in index[1]:\n",
    "            print(indexes[0],\"        \",indexes[1],\"        \",indexes[2])"
   ]
  },
  {
   "cell_type": "code",
   "execution_count": null,
   "id": "85e18bf7",
   "metadata": {},
   "outputs": [],
   "source": []
  }
 ],
 "metadata": {
  "kernelspec": {
   "display_name": "Python 3",
   "language": "python",
   "name": "python3"
  },
  "language_info": {
   "codemirror_mode": {
    "name": "ipython",
    "version": 3
   },
   "file_extension": ".py",
   "mimetype": "text/x-python",
   "name": "python",
   "nbconvert_exporter": "python",
   "pygments_lexer": "ipython3",
   "version": "3.6.8"
  }
 },
 "nbformat": 4,
 "nbformat_minor": 5
}
